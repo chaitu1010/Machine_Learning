{
 "cells": [
  {
   "cell_type": "code",
   "execution_count": 1,
   "metadata": {
    "collapsed": true
   },
   "outputs": [],
   "source": [
    "import re\n",
    "from collections import Counter"
   ]
  },
  {
   "cell_type": "code",
   "execution_count": 2,
   "metadata": {
    "collapsed": true
   },
   "outputs": [],
   "source": [
    "# function to tokenise words\n",
    "def words(document):\n",
    "    \"Convert text to lower case and tokenise the document\"\n",
    "    return re.findall(r'\\w+', document.lower())"
   ]
  },
  {
   "cell_type": "code",
   "execution_count": 3,
   "metadata": {
    "collapsed": true
   },
   "outputs": [],
   "source": [
    "# create a frequency table of all the words of the document\n",
    "all_words = Counter(words(open('seed text.txt').read()))"
   ]
  },
  {
   "cell_type": "code",
   "execution_count": 4,
   "metadata": {},
   "outputs": [
    {
     "data": {
      "text/plain": [
       "135"
      ]
     },
     "execution_count": 4,
     "metadata": {},
     "output_type": "execute_result"
    }
   ],
   "source": [
    "# check frequency of a random word, say, 'chair'\n",
    "all_words['chair']"
   ]
  },
  {
   "cell_type": "code",
   "execution_count": 5,
   "metadata": {},
   "outputs": [
    {
     "name": "stdout",
     "output_type": "stream",
     "text": [
      "32198\n",
      "1115585\n"
     ]
    }
   ],
   "source": [
    "print(len(all_words))\n",
    "print(len(words(open(\"seed text.txt\").read())))"
   ]
  },
  {
   "cell_type": "code",
   "execution_count": 6,
   "metadata": {},
   "outputs": [
    {
     "data": {
      "text/plain": [
       "[('the', 79809),\n",
       " ('of', 40024),\n",
       " ('and', 38312),\n",
       " ('to', 28765),\n",
       " ('in', 22023),\n",
       " ('a', 21124),\n",
       " ('that', 12512),\n",
       " ('he', 12401),\n",
       " ('was', 11410),\n",
       " ('it', 10681)]"
      ]
     },
     "execution_count": 6,
     "metadata": {},
     "output_type": "execute_result"
    }
   ],
   "source": [
    "# look at top 10 frequent words\n",
    "all_words.most_common(10)"
   ]
  },
  {
   "cell_type": "code",
   "execution_count": 7,
   "metadata": {
    "collapsed": true
   },
   "outputs": [],
   "source": [
    "def edits_one(word):\n",
    "    \"Create all edits that are one edit away from `word`.\"\n",
    "    alphabets    = 'abcdefghijklmnopqrstuvwxyz'\n",
    "    splits     = [(word[:i], word[i:])                   for i in range(len(word) + 1)]\n",
    "    deletes    = [left + right[1:]                       for left, right in splits if right]\n",
    "    inserts    = [left + c + right                       for left, right in splits for c in alphabets]\n",
    "    replaces   = [left + c + right[1:]                   for left, right in splits if right for c in alphabets]\n",
    "    transposes = [left + right[1] + right[0] + right[2:] for left, right in splits if len(right)>1]\n",
    "    return set(deletes + inserts + replaces + transposes)"
   ]
  },
  {
   "cell_type": "code",
   "execution_count": 8,
   "metadata": {
    "collapsed": true
   },
   "outputs": [],
   "source": [
    "def edits_two(word):\n",
    "    \"Create all edits that are two edits away from `word`.\"\n",
    "    return (e2 for e1 in edits_one(word) for e2 in edits_one(e1))"
   ]
  },
  {
   "cell_type": "code",
   "execution_count": 9,
   "metadata": {
    "collapsed": true
   },
   "outputs": [],
   "source": [
    "def known(words):\n",
    "    \"The subset of `words` that appear in the `all_words`.\"\n",
    "    return set(word for word in words if word in all_words)"
   ]
  },
  {
   "cell_type": "code",
   "execution_count": 10,
   "metadata": {
    "collapsed": true
   },
   "outputs": [],
   "source": [
    "def possible_corrections(word):\n",
    "    \"Generate possible spelling corrections for word.\"\n",
    "    return (known([word]) or known(edits_one(word)) or known(edits_two(word)) or [word])"
   ]
  },
  {
   "cell_type": "code",
   "execution_count": 11,
   "metadata": {
    "collapsed": true
   },
   "outputs": [],
   "source": [
    "def prob(word, N=sum(all_words.values())): \n",
    "    \"Probability of `word`: Number of appearances of 'word' / total number of tokens\"\n",
    "    return all_words[word] / N"
   ]
  },
  {
   "cell_type": "code",
   "execution_count": 12,
   "metadata": {},
   "outputs": [
    {
     "name": "stdout",
     "output_type": "stream",
     "text": [
      "336\n",
      "{'monnex', 'sonney', 'monnly', 'montney', 'gonney', 'monneyh', 'monneyj', 'monneym', 'monneyg', 'mynney', 'moyney', 'mobnney', 'mknney', 'monsney', 'mwnney', 'rmonney', 'monmney', 'molnney', 'monnepy', 'monwey', 'nonney', 'monneyn', 'monneyx', 'yonney', 'fonney', 'monyney', 'mrnney', 'monneyt', 'monneyb', 'monuney', 'zonney', 'vmonney', 'monfey', 'monneyy', 'moonney', 'monneb', 'monniy', 'monniey', 'oonney', 'moncney', 'mobney', 'monzney', 'monne', 'mmnney', 'moenney', 'moxnney', 'momney', 'monnfey', 'montey', 'mcnney', 'xmonney', 'lonney', 'moneey', 'monpney', 'monsey', 'monneyf', 'molney', 'meonney', 'monnoey', 'mjnney', 'mvnney', 'monney', 'mnnney', 'monnxy', 'monnes', 'monntey', 'monnem', 'money', 'monnzy', 'monnet', 'mohney', 'monneby', 'monny', 'mognney', 'monneyw', 'moncey', 'minney', 'moznney', 'cmonney', 'monvey', 'momnney', 'monnek', 'monnjy', 'monneq', 'monzey', 'monnrey', 'monneys', 'vonney', 'mooney', 'menney', 'movnney', 'mofney', 'monndy', 'mounney', 'monnee', 'monneqy', 'mpnney', 'mozney', 'smonney', 'monnzey', 'bmonney', 'moiney', 'monnbey', 'mopney', 'monaey', 'monneg', 'mronney', 'muonney', 'mogney', 'monner', 'mtonney', 'moinney', 'moaney', 'monbney', 'monnye', 'mmonney', 'monnec', 'monyey', 'mtnney', 'monnry', 'monnei', 'konney', 'mhonney', 'monnely', 'msonney', 'monhey', 'monaney', 'mosnney', 'monneya', 'mokney', 'monneyu', 'monjney', 'mconney', 'monwney', 'umonney', 'monnejy', 'monkey', 'motnney', 'monnqy', 'kmonney', 'monnvey', 'monnny', 'mondey', 'monpey', 'monnkey', 'modney', 'monneiy', 'monley', 'moknney', 'monvney', 'moqnney', 'moniey', 'monneo', 'monneyv', 'monneky', 'mlonney', 'monnay', 'uonney', 'monneny', 'dmonney', 'moniney', 'monnecy', 'moqney', 'mnoney', 'monnky', 'ionney', 'myonney', 'morney', 'monnjey', 'monnpy', 'monneye', 'monneyo', 'moanney', 'mxonney', 'wonney', 'mownney', 'monnej', 'msnney', 'monnuy', 'mponney', 'monneu', 'mofnney', 'mgnney', 'mfonney', 'monneey', 'monncy', 'fmonney', 'monnsy', 'monnvy', 'qonney', 'mongey', 'monneyq', 'monnaey', 'monneyz', 'monnedy', 'monoey', 'pmonney', 'mzonney', 'monneyr', 'monneyp', 'mbonney', 'xonney', 'monnby', 'emonney', 'ponney', 'lmonney', 'mojnney', 'mhnney', 'mdnney', 'monnegy', 'monnley', 'mononey', 'mocney', 'amonney', 'monqney', 'monnehy', 'mkonney', 'jmonney', 'monned', 'moynney', 'movney', 'mionney', 'mocnney', 'monhney', 'monneh', 'monmey', 'mosney', 'monnesy', 'moneney', 'monxney', 'monneyl', 'mojney', 'monuey', 'monnfy', 'mondney', 'eonney', 'monnez', 'mornney', 'mongney', 'monlney', 'modnney', 'wmonney', 'mbnney', 'munney', 'monngy', 'donney', 'mqonney', 'monnyy', 'monxey', 'hmonney', 'mopnney', 'ymonney', 'mohnney', 'motney', 'mnney', 'monnel', 'monnevy', 'monnsey', 'monjey', 'monngey', 'monnea', 'bonney', 'monneyi', 'monbey', 'mjonney', 'monnmey', 'monnxey', 'gmonney', 'monfney', 'omnney', 'conney', 'monnef', 'monneyc', 'moeney', 'monnuey', 'tonney', 'onney', 'monneay', 'monnwey', 'qmonney', 'monnqey', 'monnyey', 'mwonney', 'mdonney', 'mxnney', 'monrey', 'monrney', 'monkney', 'monnney', 'monnwy', 'mnonney', 'mqnney', 'monneyk', 'omonney', 'monnpey', 'imonney', 'monnty', 'monnmy', 'moxney', 'monnev', 'nmonney', 'jonney', 'ronney', 'monnhy', 'manney', 'monnew', 'monnep', 'monnezy', 'monnefy', 'monneuy', 'mlnney', 'mowney', 'monnewy', 'zmonney', 'mouney', 'aonney', 'maonney', 'monnemy', 'monneyd', 'honney', 'monnen', 'monnery', 'mgonney', 'monneoy', 'monnhey', 'mfnney', 'tmonney', 'mvonney', 'monnety', 'monnexy', 'mznney', 'monndey', 'monqey', 'moneny', 'monncey', 'monnoy'}\n"
     ]
    }
   ],
   "source": [
    "print(len(set(edits_one(\"monney\"))))\n",
    "print(edits_one(\"monney\"))"
   ]
  },
  {
   "cell_type": "code",
   "execution_count": 13,
   "metadata": {},
   "outputs": [
    {
     "name": "stdout",
     "output_type": "stream",
     "text": [
      "{'monkey', 'money'}\n"
     ]
    }
   ],
   "source": [
    "print(known(edits_one(\"monney\")))"
   ]
  },
  {
   "cell_type": "code",
   "execution_count": 14,
   "metadata": {},
   "outputs": [
    {
     "name": "stdout",
     "output_type": "stream",
     "text": [
      "51013\n",
      "{'monkey', 'money'}\n"
     ]
    }
   ],
   "source": [
    "# Let's look at words that are two edits away\n",
    "print(len(set(edits_two(\"monney\"))))\n",
    "print(known(edits_one(\"monney\")))"
   ]
  },
  {
   "cell_type": "code",
   "execution_count": 15,
   "metadata": {},
   "outputs": [
    {
     "name": "stdout",
     "output_type": "stream",
     "text": [
      "{'monkey', 'money'}\n"
     ]
    }
   ],
   "source": [
    "# Let's look at possible corrections of a word\n",
    "print(possible_corrections(\"monney\"))"
   ]
  },
  {
   "cell_type": "code",
   "execution_count": 16,
   "metadata": {},
   "outputs": [
    {
     "name": "stdout",
     "output_type": "stream",
     "text": [
      "0.0002922233626303688\n",
      "5.378344097491451e-06\n"
     ]
    }
   ],
   "source": [
    "# Let's look at probability of a word\n",
    "print(prob(\"money\"))\n",
    "print(prob(\"monkey\"))"
   ]
  },
  {
   "cell_type": "code",
   "execution_count": 17,
   "metadata": {},
   "outputs": [],
   "source": [
    "def spell_check(word):\n",
    "    \"Print the most probable spelling correction for `word` out of all the `possible_corrections`\"\n",
    "    correct_word = max(possible_corrections(word), key=prob)\n",
    "    if correct_word != word:\n",
    "        return \"Did you mean \" + correct_word + \"?\"\n",
    "    else:\n",
    "        return \"Correct spelling.\""
   ]
  },
  {
   "cell_type": "code",
   "execution_count": 18,
   "metadata": {},
   "outputs": [
    {
     "name": "stdout",
     "output_type": "stream",
     "text": [
      "Did you mean money?\n"
     ]
    }
   ],
   "source": [
    "# test spell check\n",
    "print(spell_check(\"monney\"))"
   ]
  }
 ],
 "metadata": {
  "kernelspec": {
   "display_name": "Python 3",
   "language": "python",
   "name": "python3"
  },
  "language_info": {
   "codemirror_mode": {
    "name": "ipython",
    "version": 3
   },
   "file_extension": ".py",
   "mimetype": "text/x-python",
   "name": "python",
   "nbconvert_exporter": "python",
   "pygments_lexer": "ipython3",
   "version": "3.9.16"
  }
 },
 "nbformat": 4,
 "nbformat_minor": 2
}
