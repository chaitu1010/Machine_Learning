{
 "cells": [
  {
   "cell_type": "code",
   "execution_count": 1,
   "id": "f542e01f",
   "metadata": {},
   "outputs": [],
   "source": [
    "import pandas as pd\n",
    "import numpy as np\n",
    "from scipy import linalg as linalg\n",
    "import matplotlib.pyplot as plt\n",
    "%matplotlib inline\n",
    "\n",
    "import matplotlib\n",
    "matplotlib.rcParams[\"figure.figsize\"] = (5, 5)"
   ]
  },
  {
   "cell_type": "code",
   "execution_count": 2,
   "id": "4295ec79",
   "metadata": {},
   "outputs": [
    {
     "data": {
      "text/html": [
       "<div>\n",
       "<style scoped>\n",
       "    .dataframe tbody tr th:only-of-type {\n",
       "        vertical-align: middle;\n",
       "    }\n",
       "\n",
       "    .dataframe tbody tr th {\n",
       "        vertical-align: top;\n",
       "    }\n",
       "\n",
       "    .dataframe thead th {\n",
       "        text-align: right;\n",
       "    }\n",
       "</style>\n",
       "<table border=\"1\" class=\"dataframe\">\n",
       "  <thead>\n",
       "    <tr style=\"text-align: right;\">\n",
       "      <th></th>\n",
       "      <th>DateTime</th>\n",
       "      <th>Temperature</th>\n",
       "      <th>Humidity</th>\n",
       "      <th>Wind Speed</th>\n",
       "      <th>general diffuse flows</th>\n",
       "      <th>diffuse flows</th>\n",
       "      <th>Zone 1 Power Consumption</th>\n",
       "      <th>Zone 2  Power Consumption</th>\n",
       "      <th>Zone 3  Power Consumption</th>\n",
       "    </tr>\n",
       "  </thead>\n",
       "  <tbody>\n",
       "    <tr>\n",
       "      <th>0</th>\n",
       "      <td>2017-01-01 00:00:00</td>\n",
       "      <td>6.559</td>\n",
       "      <td>73.8</td>\n",
       "      <td>0.083</td>\n",
       "      <td>0.051</td>\n",
       "      <td>0.119</td>\n",
       "      <td>34055.69620</td>\n",
       "      <td>16128.87538</td>\n",
       "      <td>20240.96386</td>\n",
       "    </tr>\n",
       "    <tr>\n",
       "      <th>1</th>\n",
       "      <td>2017-01-01 00:10:00</td>\n",
       "      <td>6.414</td>\n",
       "      <td>74.5</td>\n",
       "      <td>0.083</td>\n",
       "      <td>0.070</td>\n",
       "      <td>0.085</td>\n",
       "      <td>29814.68354</td>\n",
       "      <td>19375.07599</td>\n",
       "      <td>20131.08434</td>\n",
       "    </tr>\n",
       "    <tr>\n",
       "      <th>2</th>\n",
       "      <td>2017-01-01 00:20:00</td>\n",
       "      <td>NaN</td>\n",
       "      <td>74.5</td>\n",
       "      <td>0.080</td>\n",
       "      <td>0.062</td>\n",
       "      <td>NaN</td>\n",
       "      <td>29128.10127</td>\n",
       "      <td>19006.68693</td>\n",
       "      <td>19668.43373</td>\n",
       "    </tr>\n",
       "    <tr>\n",
       "      <th>3</th>\n",
       "      <td>2017-01-01 00:30:00</td>\n",
       "      <td>6.121</td>\n",
       "      <td>75.0</td>\n",
       "      <td>0.083</td>\n",
       "      <td>NaN</td>\n",
       "      <td>0.096</td>\n",
       "      <td>28228.86076</td>\n",
       "      <td>18361.09422</td>\n",
       "      <td>18899.27711</td>\n",
       "    </tr>\n",
       "    <tr>\n",
       "      <th>4</th>\n",
       "      <td>2017-01-01 00:40:00</td>\n",
       "      <td>5.921</td>\n",
       "      <td>75.7</td>\n",
       "      <td>0.081</td>\n",
       "      <td>NaN</td>\n",
       "      <td>0.085</td>\n",
       "      <td>27335.69620</td>\n",
       "      <td>17872.34043</td>\n",
       "      <td>18442.40964</td>\n",
       "    </tr>\n",
       "  </tbody>\n",
       "</table>\n",
       "</div>"
      ],
      "text/plain": [
       "              DateTime  Temperature  Humidity  Wind Speed  \\\n",
       "0  2017-01-01 00:00:00        6.559      73.8       0.083   \n",
       "1  2017-01-01 00:10:00        6.414      74.5       0.083   \n",
       "2  2017-01-01 00:20:00          NaN      74.5       0.080   \n",
       "3  2017-01-01 00:30:00        6.121      75.0       0.083   \n",
       "4  2017-01-01 00:40:00        5.921      75.7       0.081   \n",
       "\n",
       "   general diffuse flows  diffuse flows  Zone 1 Power Consumption  \\\n",
       "0                  0.051          0.119               34055.69620   \n",
       "1                  0.070          0.085               29814.68354   \n",
       "2                  0.062            NaN               29128.10127   \n",
       "3                    NaN          0.096               28228.86076   \n",
       "4                    NaN          0.085               27335.69620   \n",
       "\n",
       "   Zone 2  Power Consumption  Zone 3  Power Consumption  \n",
       "0                16128.87538                20240.96386  \n",
       "1                19375.07599                20131.08434  \n",
       "2                19006.68693                19668.43373  \n",
       "3                18361.09422                18899.27711  \n",
       "4                17872.34043                18442.40964  "
      ]
     },
     "execution_count": 2,
     "metadata": {},
     "output_type": "execute_result"
    }
   ],
   "source": [
    "df = pd.read_csv(\"C:/Users/skart/Downloads/hyderabad-city-power-consumptions/Hyderabad_Power_Train.csv\")\n",
    "df.head()"
   ]
  },
  {
   "cell_type": "code",
   "execution_count": 3,
   "id": "1dd37f92",
   "metadata": {},
   "outputs": [
    {
     "data": {
      "text/html": [
       "<div>\n",
       "<style scoped>\n",
       "    .dataframe tbody tr th:only-of-type {\n",
       "        vertical-align: middle;\n",
       "    }\n",
       "\n",
       "    .dataframe tbody tr th {\n",
       "        vertical-align: top;\n",
       "    }\n",
       "\n",
       "    .dataframe thead th {\n",
       "        text-align: right;\n",
       "    }\n",
       "</style>\n",
       "<table border=\"1\" class=\"dataframe\">\n",
       "  <thead>\n",
       "    <tr style=\"text-align: right;\">\n",
       "      <th></th>\n",
       "      <th>DateTime</th>\n",
       "      <th>Temperature</th>\n",
       "      <th>Humidity</th>\n",
       "      <th>Wind Speed</th>\n",
       "      <th>general diffuse flows</th>\n",
       "      <th>diffuse flows</th>\n",
       "      <th>Zone 1 Power Consumption</th>\n",
       "      <th>Zone 2  Power Consumption</th>\n",
       "      <th>Zone 3  Power Consumption</th>\n",
       "      <th>Time</th>\n",
       "    </tr>\n",
       "  </thead>\n",
       "  <tbody>\n",
       "    <tr>\n",
       "      <th>0</th>\n",
       "      <td>2017-01-01 00:00:00</td>\n",
       "      <td>6.559</td>\n",
       "      <td>73.8</td>\n",
       "      <td>0.083</td>\n",
       "      <td>0.051</td>\n",
       "      <td>0.119</td>\n",
       "      <td>34055.69620</td>\n",
       "      <td>16128.87538</td>\n",
       "      <td>20240.96386</td>\n",
       "      <td>00:00:00</td>\n",
       "    </tr>\n",
       "    <tr>\n",
       "      <th>1</th>\n",
       "      <td>2017-01-01 00:10:00</td>\n",
       "      <td>6.414</td>\n",
       "      <td>74.5</td>\n",
       "      <td>0.083</td>\n",
       "      <td>0.070</td>\n",
       "      <td>0.085</td>\n",
       "      <td>29814.68354</td>\n",
       "      <td>19375.07599</td>\n",
       "      <td>20131.08434</td>\n",
       "      <td>00:10:00</td>\n",
       "    </tr>\n",
       "    <tr>\n",
       "      <th>2</th>\n",
       "      <td>2017-01-01 00:20:00</td>\n",
       "      <td>NaN</td>\n",
       "      <td>74.5</td>\n",
       "      <td>0.080</td>\n",
       "      <td>0.062</td>\n",
       "      <td>NaN</td>\n",
       "      <td>29128.10127</td>\n",
       "      <td>19006.68693</td>\n",
       "      <td>19668.43373</td>\n",
       "      <td>00:20:00</td>\n",
       "    </tr>\n",
       "    <tr>\n",
       "      <th>3</th>\n",
       "      <td>2017-01-01 00:30:00</td>\n",
       "      <td>6.121</td>\n",
       "      <td>75.0</td>\n",
       "      <td>0.083</td>\n",
       "      <td>NaN</td>\n",
       "      <td>0.096</td>\n",
       "      <td>28228.86076</td>\n",
       "      <td>18361.09422</td>\n",
       "      <td>18899.27711</td>\n",
       "      <td>00:30:00</td>\n",
       "    </tr>\n",
       "    <tr>\n",
       "      <th>4</th>\n",
       "      <td>2017-01-01 00:40:00</td>\n",
       "      <td>5.921</td>\n",
       "      <td>75.7</td>\n",
       "      <td>0.081</td>\n",
       "      <td>NaN</td>\n",
       "      <td>0.085</td>\n",
       "      <td>27335.69620</td>\n",
       "      <td>17872.34043</td>\n",
       "      <td>18442.40964</td>\n",
       "      <td>00:40:00</td>\n",
       "    </tr>\n",
       "  </tbody>\n",
       "</table>\n",
       "</div>"
      ],
      "text/plain": [
       "              DateTime  Temperature  Humidity  Wind Speed  \\\n",
       "0  2017-01-01 00:00:00        6.559      73.8       0.083   \n",
       "1  2017-01-01 00:10:00        6.414      74.5       0.083   \n",
       "2  2017-01-01 00:20:00          NaN      74.5       0.080   \n",
       "3  2017-01-01 00:30:00        6.121      75.0       0.083   \n",
       "4  2017-01-01 00:40:00        5.921      75.7       0.081   \n",
       "\n",
       "   general diffuse flows  diffuse flows  Zone 1 Power Consumption  \\\n",
       "0                  0.051          0.119               34055.69620   \n",
       "1                  0.070          0.085               29814.68354   \n",
       "2                  0.062            NaN               29128.10127   \n",
       "3                    NaN          0.096               28228.86076   \n",
       "4                    NaN          0.085               27335.69620   \n",
       "\n",
       "   Zone 2  Power Consumption  Zone 3  Power Consumption      Time  \n",
       "0                16128.87538                20240.96386  00:00:00  \n",
       "1                19375.07599                20131.08434  00:10:00  \n",
       "2                19006.68693                19668.43373  00:20:00  \n",
       "3                18361.09422                18899.27711  00:30:00  \n",
       "4                17872.34043                18442.40964  00:40:00  "
      ]
     },
     "execution_count": 3,
     "metadata": {},
     "output_type": "execute_result"
    }
   ],
   "source": [
    "df[\"Time\"] = pd.DatetimeIndex(df[\"DateTime\"]).time\n",
    "df.head()"
   ]
  },
  {
   "cell_type": "code",
   "execution_count": 4,
   "id": "1d14f255",
   "metadata": {},
   "outputs": [
    {
     "data": {
      "text/html": [
       "<div>\n",
       "<style scoped>\n",
       "    .dataframe tbody tr th:only-of-type {\n",
       "        vertical-align: middle;\n",
       "    }\n",
       "\n",
       "    .dataframe tbody tr th {\n",
       "        vertical-align: top;\n",
       "    }\n",
       "\n",
       "    .dataframe thead th {\n",
       "        text-align: right;\n",
       "    }\n",
       "</style>\n",
       "<table border=\"1\" class=\"dataframe\">\n",
       "  <thead>\n",
       "    <tr style=\"text-align: right;\">\n",
       "      <th></th>\n",
       "      <th>DateTime</th>\n",
       "      <th>Temperature</th>\n",
       "      <th>Humidity</th>\n",
       "      <th>Wind Speed</th>\n",
       "      <th>general diffuse flows</th>\n",
       "      <th>diffuse flows</th>\n",
       "      <th>Zone 1 Power Consumption</th>\n",
       "      <th>Zone 2  Power Consumption</th>\n",
       "      <th>Zone 3  Power Consumption</th>\n",
       "      <th>Time</th>\n",
       "    </tr>\n",
       "  </thead>\n",
       "  <tbody>\n",
       "    <tr>\n",
       "      <th>0</th>\n",
       "      <td>2017-01-01 00:00:00</td>\n",
       "      <td>6.559</td>\n",
       "      <td>73.8</td>\n",
       "      <td>0.083</td>\n",
       "      <td>0.051</td>\n",
       "      <td>0.119</td>\n",
       "      <td>34055.69620</td>\n",
       "      <td>16128.87538</td>\n",
       "      <td>20240.96386</td>\n",
       "      <td>0</td>\n",
       "    </tr>\n",
       "    <tr>\n",
       "      <th>1</th>\n",
       "      <td>2017-01-01 00:10:00</td>\n",
       "      <td>6.414</td>\n",
       "      <td>74.5</td>\n",
       "      <td>0.083</td>\n",
       "      <td>0.070</td>\n",
       "      <td>0.085</td>\n",
       "      <td>29814.68354</td>\n",
       "      <td>19375.07599</td>\n",
       "      <td>20131.08434</td>\n",
       "      <td>10</td>\n",
       "    </tr>\n",
       "    <tr>\n",
       "      <th>2</th>\n",
       "      <td>2017-01-01 00:20:00</td>\n",
       "      <td>NaN</td>\n",
       "      <td>74.5</td>\n",
       "      <td>0.080</td>\n",
       "      <td>0.062</td>\n",
       "      <td>NaN</td>\n",
       "      <td>29128.10127</td>\n",
       "      <td>19006.68693</td>\n",
       "      <td>19668.43373</td>\n",
       "      <td>20</td>\n",
       "    </tr>\n",
       "    <tr>\n",
       "      <th>3</th>\n",
       "      <td>2017-01-01 00:30:00</td>\n",
       "      <td>6.121</td>\n",
       "      <td>75.0</td>\n",
       "      <td>0.083</td>\n",
       "      <td>NaN</td>\n",
       "      <td>0.096</td>\n",
       "      <td>28228.86076</td>\n",
       "      <td>18361.09422</td>\n",
       "      <td>18899.27711</td>\n",
       "      <td>30</td>\n",
       "    </tr>\n",
       "    <tr>\n",
       "      <th>4</th>\n",
       "      <td>2017-01-01 00:40:00</td>\n",
       "      <td>5.921</td>\n",
       "      <td>75.7</td>\n",
       "      <td>0.081</td>\n",
       "      <td>NaN</td>\n",
       "      <td>0.085</td>\n",
       "      <td>27335.69620</td>\n",
       "      <td>17872.34043</td>\n",
       "      <td>18442.40964</td>\n",
       "      <td>40</td>\n",
       "    </tr>\n",
       "  </tbody>\n",
       "</table>\n",
       "</div>"
      ],
      "text/plain": [
       "              DateTime  Temperature  Humidity  Wind Speed  \\\n",
       "0  2017-01-01 00:00:00        6.559      73.8       0.083   \n",
       "1  2017-01-01 00:10:00        6.414      74.5       0.083   \n",
       "2  2017-01-01 00:20:00          NaN      74.5       0.080   \n",
       "3  2017-01-01 00:30:00        6.121      75.0       0.083   \n",
       "4  2017-01-01 00:40:00        5.921      75.7       0.081   \n",
       "\n",
       "   general diffuse flows  diffuse flows  Zone 1 Power Consumption  \\\n",
       "0                  0.051          0.119               34055.69620   \n",
       "1                  0.070          0.085               29814.68354   \n",
       "2                  0.062            NaN               29128.10127   \n",
       "3                    NaN          0.096               28228.86076   \n",
       "4                    NaN          0.085               27335.69620   \n",
       "\n",
       "   Zone 2  Power Consumption  Zone 3  Power Consumption  Time  \n",
       "0                16128.87538                20240.96386     0  \n",
       "1                19375.07599                20131.08434    10  \n",
       "2                19006.68693                19668.43373    20  \n",
       "3                18361.09422                18899.27711    30  \n",
       "4                17872.34043                18442.40964    40  "
      ]
     },
     "execution_count": 4,
     "metadata": {},
     "output_type": "execute_result"
    }
   ],
   "source": [
    "def ti(i):\n",
    "    i = str(i)\n",
    "    i = i.split(':')\n",
    "    a = (int(i[0]))*60 + int(i[1]) \n",
    "    return a\n",
    "\n",
    "df[\"Time\"] = df[\"Time\"].apply(lambda x : ti(x))\n",
    "df.head()"
   ]
  },
  {
   "cell_type": "code",
   "execution_count": 5,
   "id": "9a90bb87",
   "metadata": {},
   "outputs": [
    {
     "data": {
      "text/plain": [
       "(47596, 10)"
      ]
     },
     "execution_count": 5,
     "metadata": {},
     "output_type": "execute_result"
    }
   ],
   "source": [
    "df.shape"
   ]
  },
  {
   "cell_type": "code",
   "execution_count": 6,
   "id": "8a2fbc65",
   "metadata": {},
   "outputs": [],
   "source": [
    "m = len(df.index)\n",
    "n = len(df.count(axis = 0)) - 4"
   ]
  },
  {
   "cell_type": "code",
   "execution_count": 7,
   "id": "a0f738ec",
   "metadata": {},
   "outputs": [
    {
     "data": {
      "text/plain": [
       "DateTime                        0\n",
       "Temperature                  5725\n",
       "Humidity                     3611\n",
       "Wind Speed                   4412\n",
       "general diffuse flows        5653\n",
       "diffuse flows                4048\n",
       "Zone 1 Power Consumption        0\n",
       "Zone 2  Power Consumption       0\n",
       "Zone 3  Power Consumption       0\n",
       "Time                            0\n",
       "dtype: int64"
      ]
     },
     "execution_count": 7,
     "metadata": {},
     "output_type": "execute_result"
    }
   ],
   "source": [
    "df.isnull().sum()"
   ]
  },
  {
   "cell_type": "code",
   "execution_count": 8,
   "id": "5cd39fba",
   "metadata": {},
   "outputs": [
    {
     "data": {
      "text/html": [
       "<div>\n",
       "<style scoped>\n",
       "    .dataframe tbody tr th:only-of-type {\n",
       "        vertical-align: middle;\n",
       "    }\n",
       "\n",
       "    .dataframe tbody tr th {\n",
       "        vertical-align: top;\n",
       "    }\n",
       "\n",
       "    .dataframe thead th {\n",
       "        text-align: right;\n",
       "    }\n",
       "</style>\n",
       "<table border=\"1\" class=\"dataframe\">\n",
       "  <thead>\n",
       "    <tr style=\"text-align: right;\">\n",
       "      <th></th>\n",
       "      <th>DateTime</th>\n",
       "      <th>Temperature</th>\n",
       "      <th>Humidity</th>\n",
       "      <th>Wind Speed</th>\n",
       "      <th>general diffuse flows</th>\n",
       "      <th>diffuse flows</th>\n",
       "      <th>Zone 1 Power Consumption</th>\n",
       "      <th>Zone 2  Power Consumption</th>\n",
       "      <th>Zone 3  Power Consumption</th>\n",
       "      <th>Time</th>\n",
       "    </tr>\n",
       "  </thead>\n",
       "  <tbody>\n",
       "    <tr>\n",
       "      <th>0</th>\n",
       "      <td>2017-01-01 00:00:00</td>\n",
       "      <td>6.559</td>\n",
       "      <td>73.8</td>\n",
       "      <td>0.083</td>\n",
       "      <td>0.051</td>\n",
       "      <td>0.119</td>\n",
       "      <td>34055.69620</td>\n",
       "      <td>16128.87538</td>\n",
       "      <td>20240.96386</td>\n",
       "      <td>0</td>\n",
       "    </tr>\n",
       "    <tr>\n",
       "      <th>1</th>\n",
       "      <td>2017-01-01 00:10:00</td>\n",
       "      <td>6.414</td>\n",
       "      <td>74.5</td>\n",
       "      <td>0.083</td>\n",
       "      <td>0.07</td>\n",
       "      <td>0.085</td>\n",
       "      <td>29814.68354</td>\n",
       "      <td>19375.07599</td>\n",
       "      <td>20131.08434</td>\n",
       "      <td>10</td>\n",
       "    </tr>\n",
       "    <tr>\n",
       "      <th>2</th>\n",
       "      <td>2017-01-01 00:20:00</td>\n",
       "      <td>NULL</td>\n",
       "      <td>74.5</td>\n",
       "      <td>0.08</td>\n",
       "      <td>0.062</td>\n",
       "      <td>NULL</td>\n",
       "      <td>29128.10127</td>\n",
       "      <td>19006.68693</td>\n",
       "      <td>19668.43373</td>\n",
       "      <td>20</td>\n",
       "    </tr>\n",
       "    <tr>\n",
       "      <th>3</th>\n",
       "      <td>2017-01-01 00:30:00</td>\n",
       "      <td>6.121</td>\n",
       "      <td>75.0</td>\n",
       "      <td>0.083</td>\n",
       "      <td>NULL</td>\n",
       "      <td>0.096</td>\n",
       "      <td>28228.86076</td>\n",
       "      <td>18361.09422</td>\n",
       "      <td>18899.27711</td>\n",
       "      <td>30</td>\n",
       "    </tr>\n",
       "    <tr>\n",
       "      <th>4</th>\n",
       "      <td>2017-01-01 00:40:00</td>\n",
       "      <td>5.921</td>\n",
       "      <td>75.7</td>\n",
       "      <td>0.081</td>\n",
       "      <td>NULL</td>\n",
       "      <td>0.085</td>\n",
       "      <td>27335.69620</td>\n",
       "      <td>17872.34043</td>\n",
       "      <td>18442.40964</td>\n",
       "      <td>40</td>\n",
       "    </tr>\n",
       "  </tbody>\n",
       "</table>\n",
       "</div>"
      ],
      "text/plain": [
       "              DateTime Temperature Humidity Wind Speed general diffuse flows  \\\n",
       "0  2017-01-01 00:00:00       6.559     73.8      0.083                 0.051   \n",
       "1  2017-01-01 00:10:00       6.414     74.5      0.083                  0.07   \n",
       "2  2017-01-01 00:20:00        NULL     74.5       0.08                 0.062   \n",
       "3  2017-01-01 00:30:00       6.121     75.0      0.083                  NULL   \n",
       "4  2017-01-01 00:40:00       5.921     75.7      0.081                  NULL   \n",
       "\n",
       "  diffuse flows  Zone 1 Power Consumption  Zone 2  Power Consumption  \\\n",
       "0         0.119               34055.69620                16128.87538   \n",
       "1         0.085               29814.68354                19375.07599   \n",
       "2          NULL               29128.10127                19006.68693   \n",
       "3         0.096               28228.86076                18361.09422   \n",
       "4         0.085               27335.69620                17872.34043   \n",
       "\n",
       "   Zone 3  Power Consumption  Time  \n",
       "0                20240.96386     0  \n",
       "1                20131.08434    10  \n",
       "2                19668.43373    20  \n",
       "3                18899.27711    30  \n",
       "4                18442.40964    40  "
      ]
     },
     "execution_count": 8,
     "metadata": {},
     "output_type": "execute_result"
    }
   ],
   "source": [
    "df = df.fillna(\"NULL\")\n",
    "df.head()"
   ]
  },
  {
   "cell_type": "code",
   "execution_count": 9,
   "id": "b39baf95",
   "metadata": {},
   "outputs": [],
   "source": [
    "def fillNull(X):\n",
    "    for i in range(m):\n",
    "        if X[i] == \"NULL\":\n",
    "            l_limit = i-1\n",
    "            r_limit = i+1\n",
    "            while X[l_limit] == \"NULL\":\n",
    "                l_limit = l_limit - 1\n",
    "            while X[r_limit] == \"NULL\":\n",
    "                r_limit = r_limit + 1\n",
    "            X[i] = (X[l_limit]+X[r_limit])/2"
   ]
  },
  {
   "cell_type": "code",
   "execution_count": 10,
   "id": "64e9f9db",
   "metadata": {},
   "outputs": [
    {
     "name": "stderr",
     "output_type": "stream",
     "text": [
      "C:\\Users\\skart\\AppData\\Local\\Temp\\ipykernel_4112\\2947364279.py:10: SettingWithCopyWarning: \n",
      "A value is trying to be set on a copy of a slice from a DataFrame\n",
      "\n",
      "See the caveats in the documentation: https://pandas.pydata.org/pandas-docs/stable/user_guide/indexing.html#returning-a-view-versus-a-copy\n",
      "  X[i] = (X[l_limit]+X[r_limit])/2\n"
     ]
    }
   ],
   "source": [
    "fillNull(df[\"Temperature\"])\n",
    "fillNull(df[\"Humidity\"])\n",
    "fillNull(df[\"Wind Speed\"])\n",
    "fillNull(df[\"general diffuse flows\"])\n",
    "fillNull(df[\"diffuse flows\"])"
   ]
  },
  {
   "cell_type": "code",
   "execution_count": 11,
   "id": "28aa7640",
   "metadata": {},
   "outputs": [
    {
     "data": {
      "text/plain": [
       "DateTime                     0\n",
       "Temperature                  0\n",
       "Humidity                     0\n",
       "Wind Speed                   0\n",
       "general diffuse flows        0\n",
       "diffuse flows                0\n",
       "Zone 1 Power Consumption     0\n",
       "Zone 2  Power Consumption    0\n",
       "Zone 3  Power Consumption    0\n",
       "Time                         0\n",
       "dtype: int64"
      ]
     },
     "execution_count": 11,
     "metadata": {},
     "output_type": "execute_result"
    }
   ],
   "source": [
    "(df == \"NULL\").sum()"
   ]
  },
  {
   "cell_type": "code",
   "execution_count": 12,
   "id": "98dfc072",
   "metadata": {},
   "outputs": [
    {
     "data": {
      "image/png": "[encoded data removed]",
      "text/plain": [
       "<Figure size 500x500 with 1 Axes>"
      ]
     },
     "metadata": {},
     "output_type": "display_data"
    },
    {
     "data": {
      "text/plain": [
       "<Figure size 500x500 with 0 Axes>"
      ]
     },
     "metadata": {},
     "output_type": "display_data"
    }
   ],
   "source": [
    "plt.hist(df[\"Temperature\"], bins = 20)\n",
    "plt.show()\n",
    "plt.clf()"
   ]
  },
  {
   "cell_type": "code",
   "execution_count": 13,
   "id": "41a67647",
   "metadata": {},
   "outputs": [
    {
     "data": {
      "image/png": "[encoded data removed]",
      "text/plain": [
       "<Figure size 500x500 with 1 Axes>"
      ]
     },
     "metadata": {},
     "output_type": "display_data"
    },
    {
     "data": {
      "text/plain": [
       "<Figure size 500x500 with 0 Axes>"
      ]
     },
     "metadata": {},
     "output_type": "display_data"
    }
   ],
   "source": [
    "plt.hist(df[\"Humidity\"], bins = 20)\n",
    "plt.show()\n",
    "plt.clf()"
   ]
  },
  {
   "cell_type": "code",
   "execution_count": 14,
   "id": "8642e8b7",
   "metadata": {},
   "outputs": [
    {
     "data": {
      "image/png": "[encoded data removed]",
      "text/plain": [
       "<Figure size 500x500 with 1 Axes>"
      ]
     },
     "metadata": {},
     "output_type": "display_data"
    },
    {
     "data": {
      "text/plain": [
       "<Figure size 500x500 with 0 Axes>"
      ]
     },
     "metadata": {},
     "output_type": "display_data"
    }
   ],
   "source": [
    "plt.hist(df[\"Wind Speed\"], bins = 20)\n",
    "plt.show()\n",
    "plt.clf()"
   ]
  },
  {
   "cell_type": "code",
   "execution_count": 15,
   "id": "9e38b6f3",
   "metadata": {},
   "outputs": [
    {
     "data": {
      "image/png": "[encoded data removed]",
      "text/plain": [
       "<Figure size 500x500 with 1 Axes>"
      ]
     },
     "metadata": {},
     "output_type": "display_data"
    },
    {
     "data": {
      "text/plain": [
       "<Figure size 500x500 with 0 Axes>"
      ]
     },
     "metadata": {},
     "output_type": "display_data"
    }
   ],
   "source": [
    "plt.hist(df[\"general diffuse flows\"], bins = 20)\n",
    "plt.show()\n",
    "plt.clf()"
   ]
  },
  {
   "cell_type": "code",
   "execution_count": 16,
   "id": "e9fd3493",
   "metadata": {},
   "outputs": [
    {
     "data": {
      "image/png": "[encoded data removed]",
      "text/plain": [
       "<Figure size 500x500 with 1 Axes>"
      ]
     },
     "metadata": {},
     "output_type": "display_data"
    },
    {
     "data": {
      "text/plain": [
       "<Figure size 500x500 with 0 Axes>"
      ]
     },
     "metadata": {},
     "output_type": "display_data"
    }
   ],
   "source": [
    "plt.hist(df[\"diffuse flows\"], bins = 20)\n",
    "plt.show()\n",
    "plt.clf()"
   ]
  },
  {
   "cell_type": "code",
   "execution_count": 17,
   "id": "3add0d8d",
   "metadata": {},
   "outputs": [
    {
     "data": {
      "text/plain": [
       "(47596, 7)"
      ]
     },
     "execution_count": 17,
     "metadata": {},
     "output_type": "execute_result"
    }
   ],
   "source": [
    "X = df.loc[:, [\"Time\", \"Temperature\", \"Humidity\", \"Wind Speed\", \"general diffuse flows\", \"diffuse flows\"]]\n",
    "X = np.matrix(X)\n",
    "X = np.append(np.ones((m,1)), X, axis=1)\n",
    "X = X.astype(np.int64)\n",
    "X.shape"
   ]
  },
  {
   "cell_type": "code",
   "execution_count": 18,
   "id": "e874270f",
   "metadata": {},
   "outputs": [
    {
     "name": "stdout",
     "output_type": "stream",
     "text": [
      "(47596, 1) (47596, 1) (47596, 1)\n"
     ]
    }
   ],
   "source": [
    "y1 = df.loc[:, [\"Zone 1 Power Consumption\"]]\n",
    "y2 = df.loc[:, [\"Zone 2  Power Consumption\"]]\n",
    "y3 = df.loc[:, [\"Zone 3  Power Consumption\"]]\n",
    "y1 = np.array(y1)\n",
    "y2 = np.array(y2)\n",
    "y3 = np.array(y3)\n",
    "print(y1.shape, y2.shape, y3.shape)"
   ]
  },
  {
   "cell_type": "code",
   "execution_count": 19,
   "id": "47886b20",
   "metadata": {},
   "outputs": [],
   "source": [
    "def find_params(X, y):\n",
    "    f_arg = np.matmul(X.T, X)\n",
    "    f = np.linalg.inv(f_arg)\n",
    "    s = np.matmul(X.T, y)\n",
    "    params = np.matmul(f, s)\n",
    "    return params"
   ]
  },
  {
   "cell_type": "code",
   "execution_count": 20,
   "id": "e7a35198",
   "metadata": {},
   "outputs": [
    {
     "name": "stdout",
     "output_type": "stream",
     "text": [
      "[[ 1.77543786e+04]\n",
      " [ 1.16353641e+01]\n",
      " [ 3.75283871e+02]\n",
      " [-2.40978883e+00]\n",
      " [ 2.89893456e+01]\n",
      " [-3.61742613e-01]\n",
      " [-3.93150979e+00]] [[ 1.07412141e+04]\n",
      " [ 7.27040793e+00]\n",
      " [ 2.98044668e+02]\n",
      " [-8.90580091e+00]\n",
      " [ 1.14055033e+02]\n",
      " [-6.89244771e-01]\n",
      " [-2.52234098e+00]] [[ 7.45413111e+03]\n",
      " [ 6.55205393e+00]\n",
      " [ 4.64727140e+02]\n",
      " [-2.24511912e+01]\n",
      " [ 1.88158722e+02]\n",
      " [-4.04835623e+00]\n",
      " [-5.86559077e+00]]\n"
     ]
    }
   ],
   "source": [
    "params1 = find_params(X, y1)\n",
    "params2 = find_params(X, y2)\n",
    "params3 = find_params(X, y3)\n",
    "print(params1, params2, params3)"
   ]
  },
  {
   "cell_type": "code",
   "execution_count": 21,
   "id": "0a1c887f",
   "metadata": {},
   "outputs": [],
   "source": [
    "y_pred1 = np.matmul(X, params1)\n",
    "y_pred2 = np.matmul(X, params2)\n",
    "y_pred3 = np.matmul(X, params3)"
   ]
  },
  {
   "cell_type": "code",
   "execution_count": 22,
   "id": "5bd33955",
   "metadata": {},
   "outputs": [],
   "source": [
    "def mape(y, y_test):\n",
    "    a = (np.fabs(y - y_test)/y).sum()\n",
    "    mape = (a*100)/m\n",
    "    return mape"
   ]
  },
  {
   "cell_type": "code",
   "execution_count": 23,
   "id": "94a4b978",
   "metadata": {},
   "outputs": [
    {
     "name": "stdout",
     "output_type": "stream",
     "text": [
      "11.122463417534686 13.686869467805968 24.239530139950386\n"
     ]
    }
   ],
   "source": [
    "mape1 = mape(y1, y_pred1)\n",
    "mape2 = mape(y2, y_pred2)\n",
    "mape3 = mape(y3, y_pred3)\n",
    "print(mape1, mape2, mape3)"
   ]
  },
  {
   "cell_type": "code",
   "execution_count": 24,
   "id": "66baa209",
   "metadata": {},
   "outputs": [
    {
     "data": {
      "text/html": [
       "<div>\n",
       "<style scoped>\n",
       "    .dataframe tbody tr th:only-of-type {\n",
       "        vertical-align: middle;\n",
       "    }\n",
       "\n",
       "    .dataframe tbody tr th {\n",
       "        vertical-align: top;\n",
       "    }\n",
       "\n",
       "    .dataframe thead th {\n",
       "        text-align: right;\n",
       "    }\n",
       "</style>\n",
       "<table border=\"1\" class=\"dataframe\">\n",
       "  <thead>\n",
       "    <tr style=\"text-align: right;\">\n",
       "      <th></th>\n",
       "      <th>DateTime</th>\n",
       "      <th>Temperature</th>\n",
       "      <th>Humidity</th>\n",
       "      <th>Wind Speed</th>\n",
       "      <th>general diffuse flows</th>\n",
       "      <th>diffuse flows</th>\n",
       "    </tr>\n",
       "  </thead>\n",
       "  <tbody>\n",
       "    <tr>\n",
       "      <th>0</th>\n",
       "      <td>2017-12-01 00:00:00</td>\n",
       "      <td>19.07</td>\n",
       "      <td>55.77</td>\n",
       "      <td>0.086</td>\n",
       "      <td>0.048</td>\n",
       "      <td>0.100</td>\n",
       "    </tr>\n",
       "    <tr>\n",
       "      <th>1</th>\n",
       "      <td>2017-12-01 00:10:00</td>\n",
       "      <td>18.99</td>\n",
       "      <td>56.70</td>\n",
       "      <td>0.080</td>\n",
       "      <td>0.066</td>\n",
       "      <td>0.093</td>\n",
       "    </tr>\n",
       "    <tr>\n",
       "      <th>2</th>\n",
       "      <td>2017-12-01 00:20:00</td>\n",
       "      <td>18.88</td>\n",
       "      <td>58.11</td>\n",
       "      <td>0.078</td>\n",
       "      <td>0.070</td>\n",
       "      <td>0.104</td>\n",
       "    </tr>\n",
       "    <tr>\n",
       "      <th>3</th>\n",
       "      <td>2017-12-01 00:30:00</td>\n",
       "      <td>18.78</td>\n",
       "      <td>58.98</td>\n",
       "      <td>0.080</td>\n",
       "      <td>0.040</td>\n",
       "      <td>0.100</td>\n",
       "    </tr>\n",
       "    <tr>\n",
       "      <th>4</th>\n",
       "      <td>2017-12-01 00:40:00</td>\n",
       "      <td>18.77</td>\n",
       "      <td>59.98</td>\n",
       "      <td>0.078</td>\n",
       "      <td>0.044</td>\n",
       "      <td>0.093</td>\n",
       "    </tr>\n",
       "  </tbody>\n",
       "</table>\n",
       "</div>"
      ],
      "text/plain": [
       "              DateTime  Temperature  Humidity  Wind Speed  \\\n",
       "0  2017-12-01 00:00:00        19.07     55.77       0.086   \n",
       "1  2017-12-01 00:10:00        18.99     56.70       0.080   \n",
       "2  2017-12-01 00:20:00        18.88     58.11       0.078   \n",
       "3  2017-12-01 00:30:00        18.78     58.98       0.080   \n",
       "4  2017-12-01 00:40:00        18.77     59.98       0.078   \n",
       "\n",
       "   general diffuse flows  diffuse flows  \n",
       "0                  0.048          0.100  \n",
       "1                  0.066          0.093  \n",
       "2                  0.070          0.104  \n",
       "3                  0.040          0.100  \n",
       "4                  0.044          0.093  "
      ]
     },
     "execution_count": 24,
     "metadata": {},
     "output_type": "execute_result"
    }
   ],
   "source": [
    "df_test = pd.read_csv(\"C:/Users/skart/Downloads/hyderabad-city-power-consumptions/Hyderabad_Power_Test.csv\")\n",
    "df_test.head()"
   ]
  },
  {
   "cell_type": "code",
   "execution_count": 25,
   "id": "3a7b4050",
   "metadata": {},
   "outputs": [
    {
     "data": {
      "text/html": [
       "<div>\n",
       "<style scoped>\n",
       "    .dataframe tbody tr th:only-of-type {\n",
       "        vertical-align: middle;\n",
       "    }\n",
       "\n",
       "    .dataframe tbody tr th {\n",
       "        vertical-align: top;\n",
       "    }\n",
       "\n",
       "    .dataframe thead th {\n",
       "        text-align: right;\n",
       "    }\n",
       "</style>\n",
       "<table border=\"1\" class=\"dataframe\">\n",
       "  <thead>\n",
       "    <tr style=\"text-align: right;\">\n",
       "      <th></th>\n",
       "      <th>DateTime</th>\n",
       "      <th>Temperature</th>\n",
       "      <th>Humidity</th>\n",
       "      <th>Wind Speed</th>\n",
       "      <th>general diffuse flows</th>\n",
       "      <th>diffuse flows</th>\n",
       "      <th>Time</th>\n",
       "    </tr>\n",
       "  </thead>\n",
       "  <tbody>\n",
       "    <tr>\n",
       "      <th>0</th>\n",
       "      <td>2017-12-01 00:00:00</td>\n",
       "      <td>19.07</td>\n",
       "      <td>55.77</td>\n",
       "      <td>0.086</td>\n",
       "      <td>0.048</td>\n",
       "      <td>0.100</td>\n",
       "      <td>00:00:00</td>\n",
       "    </tr>\n",
       "    <tr>\n",
       "      <th>1</th>\n",
       "      <td>2017-12-01 00:10:00</td>\n",
       "      <td>18.99</td>\n",
       "      <td>56.70</td>\n",
       "      <td>0.080</td>\n",
       "      <td>0.066</td>\n",
       "      <td>0.093</td>\n",
       "      <td>00:10:00</td>\n",
       "    </tr>\n",
       "    <tr>\n",
       "      <th>2</th>\n",
       "      <td>2017-12-01 00:20:00</td>\n",
       "      <td>18.88</td>\n",
       "      <td>58.11</td>\n",
       "      <td>0.078</td>\n",
       "      <td>0.070</td>\n",
       "      <td>0.104</td>\n",
       "      <td>00:20:00</td>\n",
       "    </tr>\n",
       "    <tr>\n",
       "      <th>3</th>\n",
       "      <td>2017-12-01 00:30:00</td>\n",
       "      <td>18.78</td>\n",
       "      <td>58.98</td>\n",
       "      <td>0.080</td>\n",
       "      <td>0.040</td>\n",
       "      <td>0.100</td>\n",
       "      <td>00:30:00</td>\n",
       "    </tr>\n",
       "    <tr>\n",
       "      <th>4</th>\n",
       "      <td>2017-12-01 00:40:00</td>\n",
       "      <td>18.77</td>\n",
       "      <td>59.98</td>\n",
       "      <td>0.078</td>\n",
       "      <td>0.044</td>\n",
       "      <td>0.093</td>\n",
       "      <td>00:40:00</td>\n",
       "    </tr>\n",
       "  </tbody>\n",
       "</table>\n",
       "</div>"
      ],
      "text/plain": [
       "              DateTime  Temperature  Humidity  Wind Speed  \\\n",
       "0  2017-12-01 00:00:00        19.07     55.77       0.086   \n",
       "1  2017-12-01 00:10:00        18.99     56.70       0.080   \n",
       "2  2017-12-01 00:20:00        18.88     58.11       0.078   \n",
       "3  2017-12-01 00:30:00        18.78     58.98       0.080   \n",
       "4  2017-12-01 00:40:00        18.77     59.98       0.078   \n",
       "\n",
       "   general diffuse flows  diffuse flows      Time  \n",
       "0                  0.048          0.100  00:00:00  \n",
       "1                  0.066          0.093  00:10:00  \n",
       "2                  0.070          0.104  00:20:00  \n",
       "3                  0.040          0.100  00:30:00  \n",
       "4                  0.044          0.093  00:40:00  "
      ]
     },
     "execution_count": 25,
     "metadata": {},
     "output_type": "execute_result"
    }
   ],
   "source": [
    "df_test[\"Time\"] = pd.DatetimeIndex(df_test[\"DateTime\"]).time\n",
    "df_test.head()"
   ]
  },
  {
   "cell_type": "code",
   "execution_count": 26,
   "id": "e72aec62",
   "metadata": {},
   "outputs": [
    {
     "data": {
      "text/html": [
       "<div>\n",
       "<style scoped>\n",
       "    .dataframe tbody tr th:only-of-type {\n",
       "        vertical-align: middle;\n",
       "    }\n",
       "\n",
       "    .dataframe tbody tr th {\n",
       "        vertical-align: top;\n",
       "    }\n",
       "\n",
       "    .dataframe thead th {\n",
       "        text-align: right;\n",
       "    }\n",
       "</style>\n",
       "<table border=\"1\" class=\"dataframe\">\n",
       "  <thead>\n",
       "    <tr style=\"text-align: right;\">\n",
       "      <th></th>\n",
       "      <th>DateTime</th>\n",
       "      <th>Temperature</th>\n",
       "      <th>Humidity</th>\n",
       "      <th>Wind Speed</th>\n",
       "      <th>general diffuse flows</th>\n",
       "      <th>diffuse flows</th>\n",
       "      <th>Time</th>\n",
       "    </tr>\n",
       "  </thead>\n",
       "  <tbody>\n",
       "    <tr>\n",
       "      <th>0</th>\n",
       "      <td>2017-12-01 00:00:00</td>\n",
       "      <td>19.07</td>\n",
       "      <td>55.77</td>\n",
       "      <td>0.086</td>\n",
       "      <td>0.048</td>\n",
       "      <td>0.100</td>\n",
       "      <td>0</td>\n",
       "    </tr>\n",
       "    <tr>\n",
       "      <th>1</th>\n",
       "      <td>2017-12-01 00:10:00</td>\n",
       "      <td>18.99</td>\n",
       "      <td>56.70</td>\n",
       "      <td>0.080</td>\n",
       "      <td>0.066</td>\n",
       "      <td>0.093</td>\n",
       "      <td>10</td>\n",
       "    </tr>\n",
       "    <tr>\n",
       "      <th>2</th>\n",
       "      <td>2017-12-01 00:20:00</td>\n",
       "      <td>18.88</td>\n",
       "      <td>58.11</td>\n",
       "      <td>0.078</td>\n",
       "      <td>0.070</td>\n",
       "      <td>0.104</td>\n",
       "      <td>20</td>\n",
       "    </tr>\n",
       "    <tr>\n",
       "      <th>3</th>\n",
       "      <td>2017-12-01 00:30:00</td>\n",
       "      <td>18.78</td>\n",
       "      <td>58.98</td>\n",
       "      <td>0.080</td>\n",
       "      <td>0.040</td>\n",
       "      <td>0.100</td>\n",
       "      <td>30</td>\n",
       "    </tr>\n",
       "    <tr>\n",
       "      <th>4</th>\n",
       "      <td>2017-12-01 00:40:00</td>\n",
       "      <td>18.77</td>\n",
       "      <td>59.98</td>\n",
       "      <td>0.078</td>\n",
       "      <td>0.044</td>\n",
       "      <td>0.093</td>\n",
       "      <td>40</td>\n",
       "    </tr>\n",
       "  </tbody>\n",
       "</table>\n",
       "</div>"
      ],
      "text/plain": [
       "              DateTime  Temperature  Humidity  Wind Speed  \\\n",
       "0  2017-12-01 00:00:00        19.07     55.77       0.086   \n",
       "1  2017-12-01 00:10:00        18.99     56.70       0.080   \n",
       "2  2017-12-01 00:20:00        18.88     58.11       0.078   \n",
       "3  2017-12-01 00:30:00        18.78     58.98       0.080   \n",
       "4  2017-12-01 00:40:00        18.77     59.98       0.078   \n",
       "\n",
       "   general diffuse flows  diffuse flows  Time  \n",
       "0                  0.048          0.100     0  \n",
       "1                  0.066          0.093    10  \n",
       "2                  0.070          0.104    20  \n",
       "3                  0.040          0.100    30  \n",
       "4                  0.044          0.093    40  "
      ]
     },
     "execution_count": 26,
     "metadata": {},
     "output_type": "execute_result"
    }
   ],
   "source": [
    "df_test[\"Time\"] = df_test[\"Time\"].apply(lambda x : ti(x))\n",
    "df_test.head()"
   ]
  },
  {
   "cell_type": "code",
   "execution_count": 27,
   "id": "9079af87",
   "metadata": {},
   "outputs": [],
   "source": [
    "X_test = np.matrix(df_test.loc[:, [\"Time\", \"Temperature\", \"Humidity\", \"Wind Speed\", \"general diffuse flows\", \"diffuse flows\"]])\n",
    "m_test = len(df_test.index)\n",
    "X_test = np.append(np.ones((m_test, 1)), X_test, axis=1)\n",
    "y_pred1 = np.matmul(X_test, params1)\n",
    "y_pred2 = np.matmul(X_test, params2)\n",
    "y_pred3 = np.matmul(X_test, params3)"
   ]
  },
  {
   "cell_type": "code",
   "execution_count": 29,
   "id": "24bbf65b",
   "metadata": {},
   "outputs": [
    {
     "data": {
      "text/html": [
       "<div>\n",
       "<style scoped>\n",
       "    .dataframe tbody tr th:only-of-type {\n",
       "        vertical-align: middle;\n",
       "    }\n",
       "\n",
       "    .dataframe tbody tr th {\n",
       "        vertical-align: top;\n",
       "    }\n",
       "\n",
       "    .dataframe thead th {\n",
       "        text-align: right;\n",
       "    }\n",
       "</style>\n",
       "<table border=\"1\" class=\"dataframe\">\n",
       "  <thead>\n",
       "    <tr style=\"text-align: right;\">\n",
       "      <th></th>\n",
       "      <th>DateTime</th>\n",
       "      <th>Zone 1 Power Consumption</th>\n",
       "      <th>Zone 2 Power Consumption</th>\n",
       "      <th>Zone 3 Power Consumption</th>\n",
       "    </tr>\n",
       "  </thead>\n",
       "  <tbody>\n",
       "    <tr>\n",
       "      <th>0</th>\n",
       "      <td>2017-12-01 00:00:00</td>\n",
       "      <td>24778.730705</td>\n",
       "      <td>15937.772813</td>\n",
       "      <td>15079.775491</td>\n",
       "    </tr>\n",
       "    <tr>\n",
       "      <th>1</th>\n",
       "      <td>2017-12-01 00:10:00</td>\n",
       "      <td>24862.667605</td>\n",
       "      <td>15977.671843</td>\n",
       "      <td>15086.077488</td>\n",
       "    </tr>\n",
       "    <tr>\n",
       "      <th>2</th>\n",
       "      <td>2017-12-01 00:20:00</td>\n",
       "      <td>24934.239546</td>\n",
       "      <td>16004.775217</td>\n",
       "      <td>15068.364830</td>\n",
       "    </tr>\n",
       "    <tr>\n",
       "      <th>3</th>\n",
       "      <td>2017-12-01 00:30:00</td>\n",
       "      <td>25011.052841</td>\n",
       "      <td>16040.185660</td>\n",
       "      <td>15068.401350</td>\n",
       "    </tr>\n",
       "    <tr>\n",
       "      <th>4</th>\n",
       "      <td>2017-12-01 00:40:00</td>\n",
       "      <td>25121.211949</td>\n",
       "      <td>16100.790281</td>\n",
       "      <td>15106.471975</td>\n",
       "    </tr>\n",
       "  </tbody>\n",
       "</table>\n",
       "</div>"
      ],
      "text/plain": [
       "              DateTime  Zone 1 Power Consumption  Zone 2 Power Consumption  \\\n",
       "0  2017-12-01 00:00:00              24778.730705              15937.772813   \n",
       "1  2017-12-01 00:10:00              24862.667605              15977.671843   \n",
       "2  2017-12-01 00:20:00              24934.239546              16004.775217   \n",
       "3  2017-12-01 00:30:00              25011.052841              16040.185660   \n",
       "4  2017-12-01 00:40:00              25121.211949              16100.790281   \n",
       "\n",
       "   Zone 3 Power Consumption  \n",
       "0              15079.775491  \n",
       "1              15086.077488  \n",
       "2              15068.364830  \n",
       "3              15068.401350  \n",
       "4              15106.471975  "
      ]
     },
     "execution_count": 29,
     "metadata": {},
     "output_type": "execute_result"
    }
   ],
   "source": [
    "solution = pd.DataFrame(df_test[\"DateTime\"])\n",
    "solution[\"Zone 1 Power Consumption\"] = y_pred1\n",
    "solution[\"Zone 2 Power Consumption\"] = y_pred2\n",
    "solution[\"Zone 3 Power Consumption\"] = y_pred3\n",
    "solution.head()"
   ]
  },
  {
   "cell_type": "code",
   "execution_count": 35,
   "id": "5d76ee92",
   "metadata": {},
   "outputs": [],
   "source": [
    "solution.to_csv(\"Solution_Blend360.csv\", index = False)"
   ]
  },
  {
   "cell_type": "code",
   "execution_count": 36,
   "id": "b31f0a0e",
   "metadata": {},
   "outputs": [
    {
     "data": {
      "text/plain": [
       "(4320, 4)"
      ]
     },
     "execution_count": 36,
     "metadata": {},
     "output_type": "execute_result"
    }
   ],
   "source": [
    "solution.shape"
   ]
  }
 ],
 "metadata": {
  "kernelspec": {
   "display_name": "Python 3 (ipykernel)",
   "language": "python",
   "name": "python3"
  },
  "language_info": {
   "codemirror_mode": {
    "name": "ipython",
    "version": 3
   },
   "file_extension": ".py",
   "mimetype": "text/x-python",
   "name": "python",
   "nbconvert_exporter": "python",
   "pygments_lexer": "ipython3",
   "version": "3.9.13"
  }
 },
 "nbformat": 4,
 "nbformat_minor": 5
}
